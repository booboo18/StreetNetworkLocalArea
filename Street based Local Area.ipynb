{
 "cells": [
  {
   "cell_type": "code",
   "execution_count": null,
   "metadata": {
    "collapsed": false
   },
   "outputs": [],
   "source": [
    "import os\n",
    "import networkx as nx\n",
    "import community_louvain as community\n",
    "import matplotlib.pyplot as plt\n"
   ]
  },
  {
   "cell_type": "code",
   "execution_count": null,
   "metadata": {
    "collapsed": false
   },
   "outputs": [],
   "source": [
    "# check folder\n",
    "oldpath='unprocessed/edges.shp'\n",
    "if not os.path.exists(oldpath):\n",
    "    print ('graph must be in the following folder \"unprocessed/edges.shp\" to process')\n",
    "else:\n",
    "    print ('file exists - can process')"
   ]
  },
  {
   "cell_type": "code",
   "execution_count": null,
   "metadata": {},
   "outputs": [],
   "source": [
    "# load the graph\n",
    "G=nx.read_shp('unprocessed/edges.shp')\n",
    "\n",
    "# process the graphs\n",
    "communities,DG=community.community_modularity(G)"
   ]
  },
  {
   "cell_type": "code",
   "execution_count": null,
   "metadata": {},
   "outputs": [],
   "source": [
    "# make new folder\n",
    "newpath='processed'\n",
    "if not os.path.exists(newpath):\n",
    "    os.makedirs(newpath)\n",
    "    print ('processed folder created')\n",
    "else:\n",
    "    print ('processed folder already created')"
   ]
  },
  {
   "cell_type": "code",
   "execution_count": null,
   "metadata": {
    "collapsed": false
   },
   "outputs": [],
   "source": [
    "# save the processed map\n",
    "nx.write_shp(DG,newpath+'/')\n",
    "print ('finished')\n"
   ]
  },
  {
   "cell_type": "code",
   "execution_count": null,
   "metadata": {
    "collapsed": true
   },
   "outputs": [],
   "source": []
  }
 ],
 "metadata": {
  "interpreter": {
   "hash": "a359263d7d3380c5b71b789486b874863eaa0a967a9796b1bce4098461c11f5a"
  },
  "kernelspec": {
   "display_name": "Python 3.9.7 ('envCityPlan9')",
   "language": "python",
   "name": "python3"
  },
  "language_info": {
   "codemirror_mode": {
    "name": "ipython",
    "version": 3
   },
   "file_extension": ".py",
   "mimetype": "text/x-python",
   "name": "python",
   "nbconvert_exporter": "python",
   "pygments_lexer": "ipython3",
   "version": "3.9.7"
  }
 },
 "nbformat": 4,
 "nbformat_minor": 2
}
